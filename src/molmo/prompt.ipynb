{
 "cells": [
  {
   "cell_type": "markdown",
   "id": "632f712c",
   "metadata": {},
   "source": [
    "You are a specialised circuit-diagram interpreter. Given the image of an electrical circuit diagram, identify which symbol classes from the list below appear in the image. IMPORTANT RULES: - Only list symbols you can clearly see and identify in the image - Do not guess or assume symbols are present - If you're uncertain about a symbol, do not include it - Look for distinctive visual features of each symbol type - A typical simple circuit might only contain 2-5 different symbol types. List only the classes you find, in a python list, and nothing else. Symbol classes: [\"terminal\", \"gnd\", \"vss\", \"voltage.dc\", \"voltage.ac\", \"voltage.battery\", \"resistor\", \"resistor.adjustable\", \"resistor.photo\", \"capacitor.unpolarized\", \"capacitor.polarized\", \"capacitor.adjustable\", \"inductor\", \"inductor.ferrite\", \"inductor.coupled\", \"transformer\", \"diode\", \"diode.light_emitting\", \"diode.thyrector\", \"diode.zener\", \"diac\", \"triac\", \"thyristor\", \"varistor\", \"transistor.bjt\", \"transistor.fet\", \"transistor.photo\", \"operational_amplifier\", \"operational_amplifier.schmitt_trigger\", \"optocoupler\", \"integrated_circuit\", \"integrated_circuit.ne555\", \"integrated_circuit.voltage_regulator\", \"xor\", \"and\", \"or\", \"not\", \"nand\", \"nor\", \"probe\", \"probe.current\", \"probe.voltage\", \"switch\", \"relay\", \"socket\", \"fuse\", \"speaker\", \"motor\", \"lamp\", \"microphone\", \"antenna\", \"crystal\", \"mechanical\", \"magnetic\", \"optical\", \"block\"]"
   ]
  },
  {
   "cell_type": "code",
   "execution_count": 1,
   "id": "9e4195f9",
   "metadata": {},
   "outputs": [],
   "source": [
    "from textwrap import dedent\n",
    "\n",
    "def get_vlm_resistor_xml_prompt(cls_name:str) -> str:\n",
    "    \"\"\"Return VLM prompt for zero-shot resistor detection in XML format.\"\"\"\n",
    "    return f'You are a specialised circuit-diagram interpreter performing zero-shot inference. Given the image of an electrical circuit diagram, identify all symbols of class \"{cls_name}\". For each symbol from that class, output one <points> tag and nothing else, in the exact format: <points x1=\"…\" y1=\"…\" x2=\"…\" y2=\"…\" x3=\"…\" y3=\"…\" alt=\"{cls_name}\">{cls_name}</points> Use the coordinates of the center of the bounding box of each symbol. Do not include any additional text or tags.\\nExample for 3 different locations: <points x1=\"20.8\" y1=\"42.4\" x2=\"21.0\" y2=\"53.6\" x3=\"22.3\" y3=54.8 alt=\"{cls_name}\">{cls_name}</points>'\n",
    "\n",
    "# def get_vlm_symbol_centres_prompt(cls_name: str) -> str:\n",
    "#     \"\"\"Return prompt for zero-shot symbol-centre extraction.\"\"\"\n",
    "#     return dedent(f'''\n",
    "#         You are a specialised circuit-diagram interpreter performing zero-shot inference.\n",
    "#         Given the image of an electrical circuit diagram, identify **all** symbols of class\n",
    "#         \"{cls_name}\".\n",
    "\n",
    "#         - Output exactly one <points> tag and *nothing else*.\n",
    "#         - Inside that tag, list one coordinate pair per detected symbol, in order:\n",
    "#           x1=\"…\" y1=\"…\" x2=\"…\" y2=\"…\" x3=\"…\" y3=\"…\" … continuing as needed.\n",
    "#           Use the centre of each symbol's bounding box and the number being the percentage of the image width and height.\n",
    "#         - If the image contains only one symbol, output only x1 and y1; if two, add x2 y2; and so on.\n",
    "#         - Do **not** invent coordinates only include pairs for symbols that truly exist.\n",
    "        \n",
    "#         Example for a single symbol:\n",
    "#         <points x1=\"41.0\" y1=\"58.3\" alt=\"{cls_name}\">{cls_name}</points>\n",
    "        \n",
    "#         Example for four symbols:\n",
    "#         <points x1=\"12.1\" y1=\"23.4\" x2=\"45.0\" y2=\"67.2\" x3=\"78.8\" y3=\"11.9\" x4=\"102.5\" y4=\"53.0\"\n",
    "#         alt=\"{cls_name}\">{cls_name}</points>\n",
    "#     ''').strip()\n",
    "    \n",
    "def get_vlm_symbol_centres_prompt(cls_name: str) -> str:\n",
    "    \"\"\"Return prompt for zero-shot symbol-centre extraction.\"\"\"\n",
    "    return (f\"You are a specialised circuit-diagram interpreter performing zero-shot inference.\\n\"\n",
    "            f\"Given the image of an electrical circuit diagram, identify **all** symbols of class\\n\"\n",
    "            f\"\\\"{cls_name}\\\".\\n\"\n",
    "            f\"\\n\"\n",
    "            f\"- Output exactly one <points> tag and *nothing else*.\\n\"\n",
    "            f\"- Inside that tag, list one coordinate pair per detected symbol, in order:\\n\"\n",
    "            f\"  x1=\\\"…\\\" y1=\\\"…\\\" x2=\\\"…\\\" y2=\\\"…\\\" x3=\\\"…\\\" y3=\\\"…\\\" … continuing as needed.\\n\"\n",
    "            f\"  Use the centre of each symbol's bounding box and the number being the percentage of the image width and height.\\n\"\n",
    "            f\"- If the image contains only one symbol, output only x1 and y1; if two, add x2 y2; and so on.\\n\"\n",
    "            f\"- Do **not** invent coordinates only include pairs for symbols that truly exist.\\n\"\n",
    "            f\"\\n\"\n",
    "            f\"Example for a single symbol:\\n\"\n",
    "            f\"<points x1=\\\"41.0\\\" y1=\\\"58.3\\\" alt=\\\"{cls_name}\\\">{cls_name}</points>\\n\"\n",
    "            f\"\\n\"\n",
    "            f\"Example for four symbols:\\n\"\n",
    "            f\"<points x1=\\\"12.1\\\" y1=\\\"23.4\\\" x2=\\\"45.0\\\" y2=\\\"67.2\\\" x3=\\\"78.8\\\" y3=\\\"11.9\\\" x4=\\\"102.5\\\" y4=\\\"53.0\\\"\\n\"\n",
    "            f\"alt=\\\"{cls_name}\\\">{cls_name}</points>\")\n"
   ]
  },
  {
   "cell_type": "code",
   "execution_count": 29,
   "id": "31f3234a",
   "metadata": {},
   "outputs": [
    {
     "data": {
      "text/plain": [
       "'You are a specialised circuit-diagram interpreter performing zero-shot inference. Given the image of an electrical circuit diagram, identify all symbols of class \"voltage.dc\". For each symbol from that class, output one <points> tag and nothing else, in the exact format: <points x1=\"…\" y1=\"…\" x2=\"…\" y2=\"…\" x3=\"…\" y3=\"…\" alt=\"voltage.dc\">voltage.dc</points> Use the coordinates of the center of the bounding box of each symbol. Do not include any additional text or tags.\\nExample for 3 different locations: <points x1=\"20.8\" y1=\"42.4\" x2=\"21.0\" y2=\"53.6\" x3=\"22.3\" y3=54.8 alt=\"voltage.dc\">voltage.dc</points>'"
      ]
     },
     "execution_count": 29,
     "metadata": {},
     "output_type": "execute_result"
    }
   ],
   "source": [
    "get_vlm_resistor_xml_prompt(\"capacitor.unpolarized\")\n",
    "get_vlm_resistor_xml_prompt(\"diode.zener\")\n",
    "get_vlm_resistor_xml_prompt(\"gnd\")\n",
    "get_vlm_resistor_xml_prompt(\"inductor\")\n",
    "get_vlm_resistor_xml_prompt(\"integrated_circuit\")\n",
    "get_vlm_resistor_xml_prompt(\"probe\")\n",
    "get_vlm_resistor_xml_prompt(\"resistor\")\n",
    "get_vlm_resistor_xml_prompt(\"socket\")\n",
    "get_vlm_resistor_xml_prompt(\"terminal\")\n",
    "get_vlm_resistor_xml_prompt(\"voltage.dc\")\n"
   ]
  },
  {
   "cell_type": "code",
   "execution_count": 54,
   "id": "cdde3ac2",
   "metadata": {},
   "outputs": [
    {
     "data": {
      "text/plain": [
       "10.0"
      ]
     },
     "execution_count": 54,
     "metadata": {},
     "output_type": "execute_result"
    }
   ],
   "source": [
    "from typing import List\n",
    "\n",
    "intersection=None\n",
    "\n",
    "def jaccard_accuracy(predictions: List[str], targets: List[str]) -> float:\n",
    "    \"\"\"Compute set-based IoU (penalises misses and extras).\"\"\"\n",
    "    global intersection\n",
    "    pred_set = set(predictions)\n",
    "    target_set = set(targets)\n",
    "    intersection = pred_set & target_set\n",
    "    # print(f\"{intersection=}\")\n",
    "    union = pred_set | target_set\n",
    "    if not union:\n",
    "        return 1.0\n",
    "    return (len(intersection) / len(union)) * 100\n",
    "\n",
    "preds = [\"terminal\", \"gnd\", \"resistor\", \"diode.zener\", \"voltage.battery\", \"socket\", \"fuse\", \" switch\"]\n",
    "\n",
    "\n",
    "\n",
    "\n",
    "targets = [\"capacitor.unpolarized\",\"gnd\",\"integrated_circuit.voltage\"]\n",
    "\n",
    "# print(len(preds))\n",
    "jaccard_accuracy(\n",
    "    predictions=preds, \n",
    "    targets=targets)"
   ]
  },
  {
   "cell_type": "code",
   "execution_count": 30,
   "id": "6696b9fe",
   "metadata": {},
   "outputs": [
    {
     "name": "stdout",
     "output_type": "stream",
     "text": [
      "You are a specialised circuit-diagram interpreter performing zero-shot inference. Given the image of an electrical circuit diagram, identify all symbols of class \"terminal\". For each symbol from that class, output one <points> tag and nothing else, in the exact format: <points x1=\"…\" y1=\"…\" x2=\"…\" y2=\"…\" alt=\"terminal\">terminal</points> Use the coordinates of the bounding polygon of each symbol. Do not include any additional text or tags.Example: <points x1=\"20.8\" y1=\"42.4\" x2=\"21.0\" y2=\"53.6\" alt=\"terminal\">terminal</points>\n",
      "You are a specialised circuit-diagram interpreter performing zero-shot inference. Given the image of an electrical circuit diagram, identify all symbols of class \"resistor\". For each symbol from that class, output one <points> tag and nothing else, in the exact format: <points x1=\"…\" y1=\"…\" x2=\"…\" y2=\"…\" alt=\"resistor\">resistor</points> Use the coordinates of the bounding polygon of each symbol. Do not include any additional text or tags.Example: <points x1=\"20.8\" y1=\"42.4\" x2=\"21.0\" y2=\"53.6\" alt=\"resistor\">resistor</points>\n",
      "You are a specialised circuit-diagram interpreter performing zero-shot inference. Given the image of an electrical circuit diagram, identify all symbols of class \"diode.light_emitting\". For each symbol from that class, output one <points> tag and nothing else, in the exact format: <points x1=\"…\" y1=\"…\" x2=\"…\" y2=\"…\" alt=\"diode.light_emitting\">diode.light_emitting</points> Use the coordinates of the bounding polygon of each symbol. Do not include any additional text or tags.Example: <points x1=\"20.8\" y1=\"42.4\" x2=\"21.0\" y2=\"53.6\" alt=\"diode.light_emitting\">diode.light_emitting</points>\n"
     ]
    }
   ],
   "source": [
    "for i in intersection:\n",
    "    print(get_vlm_resistor_xml_prompt(i))"
   ]
  },
  {
   "cell_type": "code",
   "execution_count": null,
   "id": "145832aa",
   "metadata": {},
   "outputs": [],
   "source": []
  },
  {
   "cell_type": "markdown",
   "id": "cac91ba6",
   "metadata": {},
   "source": [
    "# Chain Of Thought"
   ]
  },
  {
   "cell_type": "code",
   "execution_count": null,
   "id": "89ba5549",
   "metadata": {},
   "outputs": [],
   "source": []
  },
  {
   "cell_type": "code",
   "execution_count": null,
   "id": "0ce0ea9c",
   "metadata": {},
   "outputs": [],
   "source": []
  }
 ],
 "metadata": {
  "kernelspec": {
   "display_name": "molmo-7b-d-py3.11",
   "language": "python",
   "name": "python3"
  },
  "language_info": {
   "codemirror_mode": {
    "name": "ipython",
    "version": 3
   },
   "file_extension": ".py",
   "mimetype": "text/x-python",
   "name": "python",
   "nbconvert_exporter": "python",
   "pygments_lexer": "ipython3",
   "version": "3.11.11"
  }
 },
 "nbformat": 4,
 "nbformat_minor": 5
}
