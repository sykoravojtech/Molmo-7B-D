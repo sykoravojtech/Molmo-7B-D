{
 "cells": [
  {
   "cell_type": "markdown",
   "id": "632f712c",
   "metadata": {},
   "source": [
    "You are a specialised circuit-diagram interpreter. Given the image of an electrical circuit diagram, identify which symbol classes from the list below appear in the image. IMPORTANT RULES: - Only list symbols you can clearly see and identify in the image - Do not guess or assume symbols are present - If you're uncertain about a symbol, do not include it - Look for distinctive visual features of each symbol type - A typical simple circuit might only contain 2-5 different symbol types. List only the classes you find, in a python list, and nothing else. Symbol classes: [\"terminal\", \"gnd\", \"vss\", \"voltage.dc\", \"voltage.ac\", \"voltage.battery\", \"resistor\", \"resistor.adjustable\", \"resistor.photo\", \"capacitor.unpolarized\", \"capacitor.polarized\", \"capacitor.adjustable\", \"inductor\", \"inductor.ferrite\", \"inductor.coupled\", \"transformer\", \"diode\", \"diode.light_emitting\", \"diode.thyrector\", \"diode.zener\", \"diac\", \"triac\", \"thyristor\", \"varistor\", \"transistor.bjt\", \"transistor.fet\", \"transistor.photo\", \"operational_amplifier\", \"operational_amplifier.schmitt_trigger\", \"optocoupler\", \"integrated_circuit\", \"integrated_circuit.ne555\", \"integrated_circuit.voltage_regulator\", \"xor\", \"and\", \"or\", \"not\", \"nand\", \"nor\", \"probe\", \"probe.current\", \"probe.voltage\", \"switch\", \"relay\", \"socket\", \"fuse\", \"speaker\", \"motor\", \"lamp\", \"microphone\", \"antenna\", \"crystal\", \"mechanical\", \"magnetic\", \"optical\", \"block\"]"
   ]
  },
  {
   "cell_type": "code",
   "execution_count": 6,
   "id": "9e4195f9",
   "metadata": {},
   "outputs": [],
   "source": [
    "def get_vlm_resistor_xml_prompt(cls_name:str) -> str:\n",
    "    \"\"\"Return VLM prompt for zero-shot resistor detection in XML format.\"\"\"\n",
    "    return f'You are a specialised circuit-diagram interpreter performing zero-shot inference. Given the image of an electrical circuit diagram, identify all symbols of class \"{cls_name}\". For each symbol from that class, output one <points> tag and nothing else, in the exact format: <points x1=\"…\" y1=\"…\" x2=\"…\" y2=\"…\" alt=\"{cls_name}\">{cls_name}</points> Use the coordinates of the bounding polygon of each symbol. Do not include any additional text or tags.Example: <points x1=\"20.8\" y1=\"42.4\" x2=\"21.0\" y2=\"53.6\" alt=\"{cls_name}\">{cls_name}</points>'"
   ]
  },
  {
   "cell_type": "code",
   "execution_count": 15,
   "id": "99e57b2f",
   "metadata": {},
   "outputs": [
    {
     "name": "stdout",
     "output_type": "stream",
     "text": [
      "You are a specialised circuit-diagram interpreter performing zero-shot inference. Given the image of an electrical circuit diagram, identify all symbols of class \"integrated_circuit\". For each symbol from that class, output one <points> tag and nothing else, in the exact format: <points x1=\"…\" y1=\"…\" x2=\"…\" y2=\"…\" alt=\"integrated_circuit\">integrated_circuit</points> Use the coordinates of the bounding polygon of each symbol. Do not include any additional text or tags.Example: <points x1=\"20.8\" y1=\"42.4\" x2=\"21.0\" y2=\"53.6\" alt=\"integrated_circuit\">integrated_circuit</points>\n"
     ]
    }
   ],
   "source": [
    "print(get_vlm_resistor_xml_prompt(\"integrated_circuit\"))"
   ]
  },
  {
   "cell_type": "code",
   "execution_count": null,
   "id": "31f3234a",
   "metadata": {},
   "outputs": [],
   "source": []
  },
  {
   "cell_type": "code",
   "execution_count": 29,
   "id": "cdde3ac2",
   "metadata": {},
   "outputs": [
    {
     "name": "stdout",
     "output_type": "stream",
     "text": [
      "intersection={'terminal', 'resistor', 'diode.light_emitting'}\n"
     ]
    },
    {
     "data": {
      "text/plain": [
       "18.75"
      ]
     },
     "execution_count": 29,
     "metadata": {},
     "output_type": "execute_result"
    }
   ],
   "source": [
    "from typing import List\n",
    "\n",
    "intersection=None\n",
    "\n",
    "def jaccard_accuracy(predictions: List[str], targets: List[str]) -> float:\n",
    "    \"\"\"Compute set-based IoU (penalises misses and extras).\"\"\"\n",
    "    global intersection\n",
    "    pred_set = set(predictions)\n",
    "    target_set = set(targets)\n",
    "    intersection = pred_set & target_set\n",
    "    print(f\"{intersection=}\")\n",
    "    union = pred_set | target_set\n",
    "    if not union:\n",
    "        return 1.0\n",
    "    return (len(intersection) / len(union)) * 100\n",
    "\n",
    "jaccard_accuracy(\n",
    "    predictions=[\"terminal\", \"resistor\", \"capacitor.polarized\", \"diode.light_emitting\", \"integrated_circuit.voltage_regulator\", \"switch\", \"fuse\", \"microphone\", \"antenna\", \"crystal\", \"mechanical\", \"magnetic\", \"optical\", \"block\"], \n",
    "    targets=[\n",
    "    \"diode.light_emitting\",\n",
    "    \"gnd\",\n",
    "    \"probe\",\n",
    "    \"resistor\",\n",
    "    \"terminal\"\n",
    "]\n",
    "    )"
   ]
  },
  {
   "cell_type": "code",
   "execution_count": 30,
   "id": "6696b9fe",
   "metadata": {},
   "outputs": [
    {
     "name": "stdout",
     "output_type": "stream",
     "text": [
      "You are a specialised circuit-diagram interpreter performing zero-shot inference. Given the image of an electrical circuit diagram, identify all symbols of class \"terminal\". For each symbol from that class, output one <points> tag and nothing else, in the exact format: <points x1=\"…\" y1=\"…\" x2=\"…\" y2=\"…\" alt=\"terminal\">terminal</points> Use the coordinates of the bounding polygon of each symbol. Do not include any additional text or tags.Example: <points x1=\"20.8\" y1=\"42.4\" x2=\"21.0\" y2=\"53.6\" alt=\"terminal\">terminal</points>\n",
      "You are a specialised circuit-diagram interpreter performing zero-shot inference. Given the image of an electrical circuit diagram, identify all symbols of class \"resistor\". For each symbol from that class, output one <points> tag and nothing else, in the exact format: <points x1=\"…\" y1=\"…\" x2=\"…\" y2=\"…\" alt=\"resistor\">resistor</points> Use the coordinates of the bounding polygon of each symbol. Do not include any additional text or tags.Example: <points x1=\"20.8\" y1=\"42.4\" x2=\"21.0\" y2=\"53.6\" alt=\"resistor\">resistor</points>\n",
      "You are a specialised circuit-diagram interpreter performing zero-shot inference. Given the image of an electrical circuit diagram, identify all symbols of class \"diode.light_emitting\". For each symbol from that class, output one <points> tag and nothing else, in the exact format: <points x1=\"…\" y1=\"…\" x2=\"…\" y2=\"…\" alt=\"diode.light_emitting\">diode.light_emitting</points> Use the coordinates of the bounding polygon of each symbol. Do not include any additional text or tags.Example: <points x1=\"20.8\" y1=\"42.4\" x2=\"21.0\" y2=\"53.6\" alt=\"diode.light_emitting\">diode.light_emitting</points>\n"
     ]
    }
   ],
   "source": [
    "for i in intersection:\n",
    "    print(get_vlm_resistor_xml_prompt(i))"
   ]
  },
  {
   "cell_type": "code",
   "execution_count": null,
   "id": "145832aa",
   "metadata": {},
   "outputs": [],
   "source": []
  }
 ],
 "metadata": {
  "kernelspec": {
   "display_name": "molmo-7b-d-py3.11",
   "language": "python",
   "name": "python3"
  },
  "language_info": {
   "codemirror_mode": {
    "name": "ipython",
    "version": 3
   },
   "file_extension": ".py",
   "mimetype": "text/x-python",
   "name": "python",
   "nbconvert_exporter": "python",
   "pygments_lexer": "ipython3",
   "version": "3.11.11"
  }
 },
 "nbformat": 4,
 "nbformat_minor": 5
}
