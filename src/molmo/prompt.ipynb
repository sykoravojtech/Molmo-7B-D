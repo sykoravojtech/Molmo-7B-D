{
 "cells": [
  {
   "cell_type": "code",
   "execution_count": 3,
   "id": "9e4195f9",
   "metadata": {},
   "outputs": [],
   "source": [
    "def get_vlm_resistor_xml_prompt(cls_name:str) -> str:\n",
    "    \"\"\"Return VLM prompt for zero-shot resistor detection in XML format.\"\"\"\n",
    "    return f'You are a specialised circuit-diagram interpreter performing zero-shot inference. Given the image of an electrical circuit diagram, identify all symbols of class \"{cls_name}\". For each symbol from that class, output one <points> tag and nothing else, in the exact format: <points x1=\"…\" y1=\"…\" x2=\"…\" y2=\"…\" alt=\"{cls_name}\">{cls_name}</points> Use the coordinates of the bounding polygon of each symbol. Do not include any additional text or tags.Example: <points x1=\"20.8\" y1=\"42.4\" x2=\"21.0\" y2=\"53.6\" alt=\"{cls_name}\">{cls_name}</points>'"
   ]
  },
  {
   "cell_type": "code",
   "execution_count": 6,
   "id": "99e57b2f",
   "metadata": {},
   "outputs": [
    {
     "name": "stdout",
     "output_type": "stream",
     "text": [
      "You are a specialised circuit-diagram interpreter performing zero-shot inference. Given the image of an electrical circuit diagram, identify all symbols of class \"switch\". For each symbol from that class, output one <points> tag and nothing else, in the exact format: <points x1=\"…\" y1=\"…\" x2=\"…\" y2=\"…\" alt=\"switch\">switch</points> Use the coordinates of the bounding polygon of each symbol. Do not include any additional text or tags.Example: <points x1=\"20.8\" y1=\"42.4\" x2=\"21.0\" y2=\"53.6\" alt=\"switch\">switch</points>\n"
     ]
    }
   ],
   "source": [
    "print(get_vlm_resistor_xml_prompt(\"switch\"))"
   ]
  },
  {
   "cell_type": "code",
   "execution_count": null,
   "id": "31f3234a",
   "metadata": {},
   "outputs": [],
   "source": []
  },
  {
   "cell_type": "code",
   "execution_count": 10,
   "id": "cdde3ac2",
   "metadata": {},
   "outputs": [
    {
     "data": {
      "text/plain": [
       "15.789473684210526"
      ]
     },
     "execution_count": 10,
     "metadata": {},
     "output_type": "execute_result"
    }
   ],
   "source": [
    "from typing import List\n",
    "\n",
    "def jaccard_accuracy(predictions: List[str], targets: List[str]) -> float:\n",
    "    \"\"\"Compute set-based IoU (penalises misses and extras).\"\"\"\n",
    "    pred_set = set(predictions)\n",
    "    target_set = set(targets)\n",
    "    intersection = pred_set & target_set\n",
    "    union = pred_set | target_set\n",
    "    if not union:\n",
    "        return 1.0\n",
    "    return (len(intersection) / len(union)) * 100\n",
    "\n",
    "jaccard_accuracy(\n",
    "    predictions=[\"terminal\", \"voltage\tdc\", \"resistor\", \"resistor.adjustable\", \"integrated_circuit\", \"integrated_circuit.ne555\", \"integrated_circuit.voltage_regulator\", \"switch\", \"relay\", \"socket\", \"fuse\", \"speaker\", \"microphone\", \"antenna\", \"crystal\", \"mechanical\", \"magnetic\", \"optical\", \"block\"], \n",
    "    targets=[\"terminal\", \"resistor\", \"switch\"]\n",
    "    )"
   ]
  },
  {
   "cell_type": "code",
   "execution_count": null,
   "id": "6696b9fe",
   "metadata": {},
   "outputs": [],
   "source": []
  }
 ],
 "metadata": {
  "kernelspec": {
   "display_name": "molmo-7b-d-py3.11",
   "language": "python",
   "name": "python3"
  },
  "language_info": {
   "codemirror_mode": {
    "name": "ipython",
    "version": 3
   },
   "file_extension": ".py",
   "mimetype": "text/x-python",
   "name": "python",
   "nbconvert_exporter": "python",
   "pygments_lexer": "ipython3",
   "version": "3.11.11"
  }
 },
 "nbformat": 4,
 "nbformat_minor": 5
}
